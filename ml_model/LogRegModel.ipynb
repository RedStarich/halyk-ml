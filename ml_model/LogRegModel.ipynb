{
 "cells": [
  {
   "cell_type": "code",
   "execution_count": 84,
   "metadata": {},
   "outputs": [],
   "source": [
    "import pandas as pd\n",
    "import numpy as np\n",
    "import sklearn\n",
    "from sklearn import metrics\n",
    "from sklearn.linear_model import LogisticRegression\n",
    "\n",
    "\n",
    "df = pd.read_csv('cardio_train.csv', sep = ';')\n",
    "df = df[:20000]"
   ]
  },
  {
   "cell_type": "code",
   "execution_count": 85,
   "metadata": {},
   "outputs": [
    {
     "name": "stdout",
     "output_type": "stream",
     "text": [
      "(20000, 13)\n",
      "(16000, 8)\n"
     ]
    }
   ],
   "source": [
    "features = ['age', 'gender', 'height', 'weight', 'ap_hi', 'ap_lo', 'alco', 'ph_activt']\n",
    "X = df[features]\n",
    "y = df.cardio\n",
    "print(df.shape)\n",
    "from sklearn.model_selection import train_test_split\n",
    "\n",
    "X_train, X_test, y_train, y_test = train_test_split(X, y, test_size=0.2, random_state=0)\n",
    "print(X_train.shape)\n"
   ]
  },
  {
   "cell_type": "code",
   "execution_count": 86,
   "metadata": {},
   "outputs": [
    {
     "name": "stdout",
     "output_type": "stream",
     "text": [
      "Index(['age', 'gender', 'height', 'weight', 'ap_hi', 'ap_lo', 'alco',\n",
      "       'ph_activt'],\n",
      "      dtype='object')\n"
     ]
    },
    {
     "data": {
      "text/plain": [
       "70.47"
      ]
     },
     "execution_count": 86,
     "metadata": {},
     "output_type": "execute_result"
    }
   ],
   "source": [
    "logreg = LogisticRegression()\n",
    "print(X_train.columns)\n",
    "logreg.fit(X_train, y_train)\n",
    "acc_log = round(logreg.score(X_train, y_train) * 100, 2)\n",
    "print(acc_log)"
   ]
  },
  {
   "cell_type": "code",
   "execution_count": 90,
   "metadata": {},
   "outputs": [
    {
     "name": "stdout",
     "output_type": "stream",
     "text": [
      "      age  gender  height  weight  ap_hi  ap_lo  alco  ph_activt\n",
      "0  146000       1     176      57    120     60     1          0\n",
      "1\n",
      "Denied! Accuracy of prediction = 70.47\n"
     ]
    }
   ],
   "source": [
    "import json\n",
    "with open('inputdata.json') as json1:\n",
    "  dict1 = json.load(json1)\n",
    "\n",
    "dict1['age'] *= 365\n",
    "\n",
    "\n",
    "\n",
    "inputdf = pd.DataFrame([dict1])\n",
    "print(inputdf)\n",
    "\n",
    "output = logreg.predict(inputdf)\n",
    "print(output[0])\n",
    "if output[0] < 0.5:\n",
    "  print(\"Approved. Health insurance validated\")\n",
    "else:\n",
    "  print(f\"Denied! Accuracy of prediction = {acc_log}%\" )\n"
   ]
  }
 ],
 "metadata": {
  "kernelspec": {
   "display_name": "ml-env",
   "language": "python",
   "name": "python3"
  },
  "language_info": {
   "codemirror_mode": {
    "name": "ipython",
    "version": 3
   },
   "file_extension": ".py",
   "mimetype": "text/x-python",
   "name": "python",
   "nbconvert_exporter": "python",
   "pygments_lexer": "ipython3",
   "version": "3.11.7"
  }
 },
 "nbformat": 4,
 "nbformat_minor": 2
}
