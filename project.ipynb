{
 "cells": [
  {
   "cell_type": "code",
   "execution_count": 41,
   "metadata": {},
   "outputs": [],
   "source": [
    "import pandas as pd\n",
    "import numpy as np\n",
    "\n",
    "df = pd.read_csv('cardio_train.csv', sep = ';')\n",
    "df = df[10000:17500]\n"
   ]
  },
  {
   "cell_type": "code",
   "execution_count": 42,
   "metadata": {},
   "outputs": [
    {
     "name": "stdout",
     "output_type": "stream",
     "text": [
      "(7500, 13)\n",
      "Index(['id', 'age', 'gender', 'height', 'weight', 'ap_hi', 'ap_lo',\n",
      "       'cholesterol', 'gluc', 'smoke', 'alco', 'active', 'cardio'],\n",
      "      dtype='object')\n",
      "          id    age  gender  height  weight  ap_hi  ap_lo  cholesterol  gluc  \\\n",
      "10000  14256  23421       2     170    74.0    120     80            1     1   \n",
      "10001  14259  15527       2     158    61.0    120     80            1     1   \n",
      "10002  14265  21279       1     160    83.0    140     90            1     1   \n",
      "10003  14266  15241       1     157    57.0    100     70            1     1   \n",
      "10004  14267  16137       2     179    61.0    110     60            1     1   \n",
      "\n",
      "       smoke  alco  active  cardio  \n",
      "10000      0     0       1       0  \n",
      "10001      0     0       1       0  \n",
      "10002      0     0       1       1  \n",
      "10003      0     0       1       0  \n",
      "10004      0     0       1       0  \n"
     ]
    }
   ],
   "source": [
    "print(df.shape)\n",
    "print(df.columns)\n",
    "print(df.head(5))"
   ]
  },
  {
   "cell_type": "code",
   "execution_count": 43,
   "metadata": {},
   "outputs": [],
   "source": [
    "features = ['age', 'gender', 'height', 'weight', 'ap_hi', 'ap_lo',\n",
    "       'cholesterol', 'gluc', 'smoke', 'alco', 'active']\n",
    "X = df[features]\n",
    "y = df.cardio\n"
   ]
  },
  {
   "cell_type": "code",
   "execution_count": 50,
   "metadata": {},
   "outputs": [],
   "source": [
    "from sklearn.model_selection import train_test_split\n",
    "\n",
    "X_train, X_test, y_train, y_test = train_test_split(X, y, test_size=0.03, random_state=16)\n"
   ]
  },
  {
   "cell_type": "code",
   "execution_count": 51,
   "metadata": {},
   "outputs": [],
   "source": [
    "from sklearn.linear_model import LogisticRegression\n",
    "\n",
    "model = LogisticRegression()\n",
    "\n",
    "model.fit(X_train, y_train)\n",
    "\n",
    "y_pred = model.predict(X_test)"
   ]
  },
  {
   "cell_type": "code",
   "execution_count": 52,
   "metadata": {},
   "outputs": [
    {
     "name": "stdout",
     "output_type": "stream",
     "text": [
      "[0 0 0 0 1 0 1 1 1 1]\n",
      "15487    1\n",
      "11828    0\n",
      "11802    0\n",
      "13330    1\n",
      "13522    1\n",
      "16710    0\n",
      "10845    1\n",
      "12328    0\n",
      "15304    1\n",
      "17432    1\n",
      "Name: cardio, dtype: int64\n",
      "0.3377777777777778\n",
      "0.3377777777777778\n",
      "[[87 28]\n",
      " [48 62]]\n"
     ]
    }
   ],
   "source": [
    "from sklearn import metrics\n",
    "\n",
    "\n",
    "error = metrics.mean_absolute_error(y_true=y_test, y_pred=y_pred)\n",
    "error2 = metrics.mean_squared_error(y_true=y_test, y_pred=y_pred)\n",
    "M = metrics.confusion_matrix(y_true=y_test, y_pred=y_pred)\n",
    "\n",
    "\n",
    "print(y_pred[:10])\n",
    "print(y_train[:10])\n",
    "print(error)\n",
    "print(error2)\n",
    "print(M)"
   ]
  }
 ],
 "metadata": {
  "kernelspec": {
   "display_name": "ml-env",
   "language": "python",
   "name": "python3"
  },
  "language_info": {
   "codemirror_mode": {
    "name": "ipython",
    "version": 3
   },
   "file_extension": ".py",
   "mimetype": "text/x-python",
   "name": "python",
   "nbconvert_exporter": "python",
   "pygments_lexer": "ipython3",
   "version": "3.12.0"
  }
 },
 "nbformat": 4,
 "nbformat_minor": 2
}
